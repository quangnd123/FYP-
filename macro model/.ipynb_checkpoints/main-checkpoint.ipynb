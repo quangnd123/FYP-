{
 "cells": [
  {
   "cell_type": "code",
   "execution_count": 5,
   "metadata": {},
   "outputs": [],
   "source": [
    "%load_ext autoreload\n",
    "%autoreload 2"
   ]
  },
  {
   "cell_type": "code",
   "execution_count": 6,
   "metadata": {},
   "outputs": [],
   "source": [
    "import pickle\n",
    "import pandas as pd\n",
    "import os\n",
    "import random\n",
    "import numpy as np\n",
    "import matplotlib.pyplot as plt\n",
    "from tqdm import tqdm\n",
    "from Homogenenous_Trajectory_Network import HomogeneousTrajectoryNetwork\n",
    "from Heterogeneous_Trajectory_Network import HeterogeneousTrajectoryNetwork\n",
    "from Heterogeneous_SEIR import HeterogeneousSEIR"
   ]
  },
  {
   "cell_type": "markdown",
   "metadata": {},
   "source": [
    "<h2>Utility Functions</h2>"
   ]
  },
  {
   "cell_type": "code",
   "execution_count": 29,
   "metadata": {},
   "outputs": [],
   "source": [
    "def plot_data_with_percentiles(homogeneous, heterogeneous, group, t_incubation, t_infectious, infect_rate):\n",
    "    groups = [\"susceptible\", \"exposed\", \"infected\", \"recovered\"]\n",
    "    time_axis = list(range(heterogeneous.shape[1]))\n",
    "    \n",
    "    # Plotting median\n",
    "    plt.scatter(time_axis, homogeneous[1,:,group], label='Homogeneous', color='green', s=2)\n",
    "    plt.scatter(time_axis, heterogeneous[1,:,group], label='Heterogeneous', color='red', s=2)\n",
    "\n",
    "    # Plot 5th \n",
    "    plt.plot(time_axis, homogeneous[0,:,group], color='green', alpha=0.5, linewidth=1)\n",
    "    plt.plot(time_axis, heterogeneous[0,:,group], color='red', alpha=0.5, linewidth=1)\n",
    "\n",
    "    # Plot 95th \n",
    "    plt.plot(time_axis, homogeneous[2,:,group], color='green', alpha=0.5, linewidth=1)\n",
    "    plt.plot(time_axis, heterogeneous[2,:,group], color='red', alpha=0.5, linewidth=1)\n",
    "\n",
    "    # Customize the plot as needed\n",
    "    plt.xlabel('Time(days)')\n",
    "    plt.ylabel(\"Number of {}\".format(groups[group]))\n",
    "    plt.legend()\n",
    "    plt.title(\"t_incubation = {} days, t_infectious = {} days, infect_rate = {} s\\u207B\\u00B9\".format(\n",
    "            t_incubation, t_infectious, infect_rate))\n",
    "\n",
    "    # Show the plot\n",
    "    plt.show()\n",
    "    \n",
    "# def plot_SEIR_data(self):\n",
    "#         S_data = self.get_no_susceptible()\n",
    "#         E_data = self.get_no_exposed()\n",
    "#         I_data = self.get_no_infectious()\n",
    "#         R_data = self.get_no_recovered()\n",
    "#         time_axis = list(range(len(self.SEIR)))\n",
    "        \n",
    "#         # Plot the data\n",
    "#         plt.figure(figsize=(10, 6))\n",
    "#         plt.plot(time_axis, S_data, label='S')\n",
    "#         plt.plot(time_axis, E_data, label='E')\n",
    "#         plt.plot(time_axis, I_data, label='I')\n",
    "#         plt.plot(time_axis, R_data, label='R')\n",
    "\n",
    "#         # Add labels, title, and legend\n",
    "#         plt.xlabel('Time(days)')\n",
    "#         plt.ylabel('Number of people')\n",
    "#         plt.title(\"t_incubation = {} days, t_infectious = {} days, infect_rate = {} s\\u207B\\u00B9\".format(\n",
    "#             self.t_incubation, self.t_infectious, self.infect_rate))\n",
    "#         plt.legend()\n",
    "\n",
    "#         # Show the plot\n",
    "#         plt.show()\n",
    "#         return"
   ]
  },
  {
   "cell_type": "markdown",
   "metadata": {},
   "source": [
    "<h2>Data</h2>"
   ]
  },
  {
   "cell_type": "code",
   "execution_count": 7,
   "metadata": {},
   "outputs": [
    {
     "name": "stdout",
     "output_type": "stream",
     "text": [
      "100\n"
     ]
    }
   ],
   "source": [
    "data_file = os.path.join(os.path.expanduser(\"~\"), \"FYP/data/synthetic_conference_attendance_data\")\n",
    "with open(data_file, 'rb') as file:\n",
    "    imported_dfs = pickle.load(file)\n",
    "print (len(imported_dfs))"
   ]
  },
  {
   "cell_type": "markdown",
   "metadata": {},
   "source": [
    "<h2>Trajectory Networks</h2>"
   ]
  },
  {
   "cell_type": "code",
   "execution_count": 8,
   "metadata": {},
   "outputs": [
    {
     "name": "stderr",
     "output_type": "stream",
     "text": [
      "Building Trajectory Network: 100%|██████████| 100/100 [07:20<00:00,  4.40s/it]\n"
     ]
    }
   ],
   "source": [
    "homogeneous_network = HomogeneousTrajectoryNetwork(list_of_dfs=imported_dfs)"
   ]
  },
  {
   "cell_type": "code",
   "execution_count": 9,
   "metadata": {},
   "outputs": [
    {
     "name": "stderr",
     "output_type": "stream",
     "text": [
      "Building Trajectory Network: 100%|██████████| 100/100 [07:17<00:00,  4.38s/it]\n"
     ]
    }
   ],
   "source": [
    "heterogeneous_network = HeterogeneousTrajectoryNetwork(list_of_dfs=imported_dfs)"
   ]
  },
  {
   "cell_type": "markdown",
   "metadata": {},
   "source": [
    "<h2>Parameters</h2>"
   ]
  },
  {
   "cell_type": "code",
   "execution_count": 10,
   "metadata": {},
   "outputs": [],
   "source": [
    "infect_rate =  3e-4 # second^-1\n",
    "recover_prob = 1\n",
    "exposed2infectious_prob = 1\n",
    "q = 0\n",
    "\n",
    "time_step = 1 # days\n",
    "t_incubation = 1 # days\n",
    "t_infectious = 2 # days\n",
    "effective_duration =0.5*24*60*60 # second\n",
    "\n",
    "RUNS = 5000"
   ]
  },
  {
   "cell_type": "markdown",
   "metadata": {},
   "source": [
    "<h2>SEIR Models</h2>"
   ]
  },
  {
   "cell_type": "code",
   "execution_count": 11,
   "metadata": {},
   "outputs": [],
   "source": [
    "unique_ids = pd.unique(pd.concat([imported_dfs[0][\"id_1\"], imported_dfs[0][\"id_2\"],imported_dfs[1][\"id_1\"], imported_dfs[1][\"id_2\"]]))"
   ]
  },
  {
   "cell_type": "code",
   "execution_count": 13,
   "metadata": {},
   "outputs": [
    {
     "name": "stderr",
     "output_type": "stream",
     "text": [
      "Iterating: 100%|██████████| 5000/5000 [15:17<00:00,  5.45it/s]\n"
     ]
    }
   ],
   "source": [
    "SEIR_homo = [] \n",
    "SEIR_hete= []\n",
    "\n",
    "for i in tqdm(range(RUNS), desc=\"Iterating\"):\n",
    "    i_inital = set(random.sample(list(unique_ids), k=1))\n",
    "    s_intial = set(unique_ids) - i_inital\n",
    "\n",
    "    SEIR_homo_model = HeterogeneousSEIR(trajectory_network=homogeneous_network, s_initial= s_intial, i_initial=i_inital, infect_rate=infect_rate, exposed2infectious_prob=exposed2infectious_prob, recover_prob=recover_prob, q=q, t_incubation=t_incubation, t_infectious=t_infectious, effective_duration=effective_duration, time_step=time_step)\n",
    "    SEIR_hete_model = HeterogeneousSEIR(trajectory_network=heterogeneous_network, s_initial= s_intial, i_initial=i_inital, infect_rate=infect_rate, exposed2infectious_prob=exposed2infectious_prob, recover_prob=recover_prob, q=q, t_incubation=t_incubation, t_infectious=t_infectious, effective_duration=effective_duration, time_step=time_step)\n",
    "    \n",
    "    SEIR_homo.append(SEIR_homo_model.get_no_SEIR())\n",
    "    SEIR_hete.append(SEIR_hete_model.get_no_SEIR())"
   ]
  },
  {
   "cell_type": "code",
   "execution_count": 21,
   "metadata": {},
   "outputs": [],
   "source": [
    "# size: RUNS x days x 4\n",
    "array_SEIR_homo = np.array(SEIR_homo) \n",
    "array_SEIR_hete = np.array(SEIR_hete)\n",
    "\n",
    "percentiles = [5, 50, 95]\n",
    "#size: 3 x days x 4\n",
    "percentiles_SEIR_homo = np.stack([np.percentile(array_SEIR_homo, q, axis=0) for q in percentiles], axis=0)\n",
    "percentiles_SEIR_hete = np.stack([np.percentile(array_SEIR_hete, q, axis=0) for q in percentiles], axis=0)"
   ]
  },
  {
   "cell_type": "code",
   "execution_count": 30,
   "metadata": {},
   "outputs": [
    {
     "data": {
      "image/png": "[encoded data removed]",
      "text/plain": [
       "<Figure size 432x288 with 1 Axes>"
      ]
     },
     "metadata": {
      "needs_background": "light"
     },
     "output_type": "display_data"
    }
   ],
   "source": [
    "plot_data_with_percentiles(homogeneous=percentiles_SEIR_homo, heterogeneous=percentiles_SEIR_hete, group=2, t_incubation=t_incubation, t_infectious=t_infectious, infect_rate=infect_rate)"
   ]
  },
  {
   "cell_type": "code",
   "execution_count": 32,
   "metadata": {},
   "outputs": [
    {
     "data": {
      "image/png": "[encoded data removed]",
      "text/plain": [
       "<Figure size 432x288 with 1 Axes>"
      ]
     },
     "metadata": {
      "needs_background": "light"
     },
     "output_type": "display_data"
    }
   ],
   "source": [
    "plot_data_with_percentiles(homogeneous=percentiles_SEIR_homo, heterogeneous=percentiles_SEIR_hete, group=3, t_incubation=t_incubation, t_infectious=t_infectious, infect_rate=infect_rate)"
   ]
  },
  {
   "cell_type": "markdown",
   "metadata": {},
   "source": [
    "<h2> Comparison Charts</h2>"
   ]
  },
  {
   "cell_type": "code",
   "execution_count": null,
   "metadata": {},
   "outputs": [],
   "source": [
    "plot_data_with_percentiles(homogeneous=SEIR_homo_model.get_infectious(),heterogeneous=SEIR_hete_model.get_infectious(), y_label=\"Number of infectious\", t_incubation=t_incubation, t_infectious=t_infectious, infect_rate=infect_rate)"
   ]
  },
  {
   "cell_type": "code",
   "execution_count": null,
   "metadata": {},
   "outputs": [],
   "source": [
    "plot_data_with_percentiles(homogeneous=SEIR_homo_model.get_recovered(),heterogeneous=SEIR_hete_model.get_recovered(), y_label=\"Number of recovered\", t_incubation=t_incubation, t_infectious=t_infectious, infect_rate=infect_rate)"
   ]
  },
  {
   "cell_type": "code",
   "execution_count": 3,
   "metadata": {},
   "outputs": [],
   "source": [
    "# for index, df in enumerate(imported_dfs):\n",
    "#     print(index)\n",
    "#     print(df)"
   ]
  },
  {
   "cell_type": "code",
   "execution_count": 7,
   "metadata": {},
   "outputs": [],
   "source": [
    "# for i, G in enumerate(homogeneous_network.graphs):\n",
    "#     print(f\"Graph {i + 1}:\")\n",
    "#     print(\"Nodes:\", G.nodes())\n",
    "#     print(\"Edges:\", G.edges())\n",
    "#     for edge in G.edges(data=True):\n",
    "#         print(f\"Edge: {edge[0]} - {edge[1]}, Weight: {edge[2].get('weight', 'No weight')}\")\n",
    "#     print()"
   ]
  },
  {
   "cell_type": "code",
   "execution_count": 8,
   "metadata": {},
   "outputs": [],
   "source": [
    "# graphs = homogeneous_network.get_trajectory_network()\n",
    "# G=graphs[0]\n",
    "# print(\"Nodes:\", G.nodes())\n",
    "# for edge in G.edges(data=True):\n",
    "#     print(f\"Edge: {edge[0]} - {edge[1]}, Weight: {edge[2].get('weight', 'No weight')}\")\n",
    "# print()"
   ]
  },
  {
   "cell_type": "code",
   "execution_count": 9,
   "metadata": {},
   "outputs": [],
   "source": [
    "# from importlib import reload\n",
    "# import Heterogeneous_SEIR\n",
    "\n",
    "# # Force re-import of the module\n",
    "# reload(Heterogeneous_SEIR)\n"
   ]
  },
  {
   "cell_type": "code",
   "execution_count": 11,
   "metadata": {},
   "outputs": [],
   "source": [
    "# for i in range(10):\n",
    "#     print(SEIR_homo_model.SEIR[i])"
   ]
  },
  {
   "cell_type": "code",
   "execution_count": null,
   "metadata": {},
   "outputs": [],
   "source": [
    "# graphs = heterogeneous_network.get_trajectory_network()\n",
    "# G=graphs[0]\n",
    "# print(\"Nodes:\", G.nodes())\n",
    "# for edge in G.edges(data=True):\n",
    "#     print(f\"Edge: {edge[0]} - {edge[1]}, Weight: {edge[2].get('weight', 'No weight')}\")\n",
    "# print()"
   ]
  },
  {
   "cell_type": "code",
   "execution_count": null,
   "metadata": {},
   "outputs": [],
   "source": [
    "# for i in range(10):\n",
    "#     print(SEIR_hete_model.SEIR[i])"
   ]
  },
  {
   "cell_type": "code",
   "execution_count": null,
   "metadata": {},
   "outputs": [],
   "source": []
  }
 ],
 "metadata": {
  "kernelspec": {
   "display_name": "Python 3",
   "language": "python",
   "name": "python3"
  },
  "language_info": {
   "codemirror_mode": {
    "name": "ipython",
    "version": 3
   },
   "file_extension": ".py",
   "mimetype": "text/x-python",
   "name": "python",
   "nbconvert_exporter": "python",
   "pygments_lexer": "ipython3",
   "version": "3.7.6"
  }
 },
 "nbformat": 4,
 "nbformat_minor": 4
}
